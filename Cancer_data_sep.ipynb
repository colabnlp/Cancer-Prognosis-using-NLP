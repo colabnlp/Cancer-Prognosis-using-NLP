{
 "cells": [
  {
   "cell_type": "code",
   "execution_count": 1,
   "metadata": {},
   "outputs": [],
   "source": [
    "import pandas as pd\n",
    "import numpy as np"
   ]
  },
  {
   "cell_type": "code",
   "execution_count": null,
   "metadata": {},
   "outputs": [],
   "source": [
    "diag = pd.read_csv('/Volumes/Seagate Backup Plus Drive/mimic-iii-clinical-database-1.4/DIAGNOSES_ICD.csv.gz')\n",
    "adm = pd.read_csv('/Volumes/Seagate Backup Plus Drive/mimic-iii-clinical-database-1.4/ADMISSIONS.csv.gz')\n",
    "note = pd.read_csv('/Volumes/Seagate Backup Plus Drive/mimic-iii-clinical-database-1.4/NOTEEVENTS.csv.gz', low_memory=False)"
   ]
  },
  {
   "cell_type": "code",
   "execution_count": null,
   "metadata": {},
   "outputs": [],
   "source": [
    "d =[]\n",
    "for code in diag['ICD9_CODE']:\n",
    "    try:\n",
    "        d.append(int(code[:3]))\n",
    "    except:\n",
    "        d.append(code)\n",
    "    \n",
    "d2 = []\n",
    "for code in diag['ICD9_CODE']:\n",
    "    try:\n",
    "        d2.append(int(code))\n",
    "    except:\n",
    "        d2.append(code)\n",
    "\n",
    "count = 0\n",
    "indx=[]#index of all diag dataframe with icd code of cancer\n",
    "for i in range(len(d)):\n",
    "    ele = d[i]\n",
    "    if (type(ele)!=str) and (140<=ele<240):\n",
    "        count+=1\n",
    "        indx.append(i)"
   ]
  },
  {
   "cell_type": "code",
   "execution_count": null,
   "metadata": {},
   "outputs": [],
   "source": [
    "#subset of diagnoses_icd.csv consisting only the data of cancer diagnosed patients\n",
    "new_data = diag.loc[indx]\n",
    "subj_id=np.unique(new_data['SUBJECT_ID'])\n",
    "#subset of note_events.csv consisting all the discharge summaries of cancer diagnosed patients\n",
    "cancer_data = note.loc[note['SUBJECT_ID'].isin(subj_id)]"
   ]
  },
  {
   "cell_type": "code",
   "execution_count": null,
   "metadata": {},
   "outputs": [],
   "source": [
    "no_dis_sum = []#count the number of discharge summaries\n",
    "for i in range(len(subj_id)):\n",
    "    temp = note[note['SUBJECT_ID']==subj_id[i]]\n",
    "    no_dis_sum.append(len(temp[temp['CATEGORY']=='Discharge summary']))\n",
    "    \n",
    "count_dis_sum={}#count the frequency of number of discharge summaries\n",
    "for i in no_dis_sum:\n",
    "    try:\n",
    "        count_dis_sum[i]+=1\n",
    "    except:\n",
    "        count_dis_sum[i]=1"
   ]
  },
  {
   "cell_type": "code",
   "execution_count": null,
   "metadata": {},
   "outputs": [],
   "source": [
    "bef_canc = cancer_data[~(cancer_data['HADM_ID'].isin(new_data['HADM_ID']))]\n",
    "aft_canc = cancer_data[cancer_data['HADM_ID'].isin(new_data['HADM_ID'])]"
   ]
  }
 ],
 "metadata": {
  "kernelspec": {
   "display_name": "Python 3",
   "language": "python",
   "name": "python3"
  },
  "language_info": {
   "codemirror_mode": {
    "name": "ipython",
    "version": 3
   },
   "file_extension": ".py",
   "mimetype": "text/x-python",
   "name": "python",
   "nbconvert_exporter": "python",
   "pygments_lexer": "ipython3",
   "version": "3.6.8"
  }
 },
 "nbformat": 4,
 "nbformat_minor": 2
}
