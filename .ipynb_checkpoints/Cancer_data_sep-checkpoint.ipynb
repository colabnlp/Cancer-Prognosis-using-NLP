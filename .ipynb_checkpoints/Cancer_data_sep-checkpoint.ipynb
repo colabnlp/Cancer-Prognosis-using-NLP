{
 "cells": [
  {
   "cell_type": "code",
   "execution_count": 1,
   "metadata": {},
   "outputs": [],
   "source": [
    "import pandas as pd\n",
    "import numpy as np"
   ]
  },
  {
   "cell_type": "code",
   "execution_count": 2,
   "metadata": {},
   "outputs": [],
   "source": [
    "diag = pd.read_csv('~/alpha.physionet.org/files/mimiciii/1.4/DIAGNOSES_ICD.csv.gz')\n",
    "adm = pd.read_csv('~/alpha.physionet.org/files/mimiciii/1.4/ADMISSIONS.csv.gz')\n",
    "note = pd.read_csv('~/alpha.physionet.org/files/mimiciii/1.4/NOTEEVENTS.csv.gz', low_memory=False)"
   ]
  },
  {
   "cell_type": "code",
   "execution_count": 3,
   "metadata": {},
   "outputs": [],
   "source": [
    "d =[]\n",
    "for code in diag['ICD9_CODE']:\n",
    "    try:\n",
    "        d.append(int(code[:3]))\n",
    "    except:\n",
    "        d.append(code)\n",
    "    \n",
    "d2 = []\n",
    "for code in diag['ICD9_CODE']:\n",
    "    try:\n",
    "        d2.append(int(code))\n",
    "    except:\n",
    "        d2.append(code)\n",
    "\n",
    "count = 0\n",
    "indx=[]#index of all diag dataframe with icd code of cancer\n",
    "for i in range(len(d)):\n",
    "    ele = d[i]\n",
    "    if (type(ele)!=str) and (140<=ele<240):\n",
    "        count+=1\n",
    "        indx.append(i)"
   ]
  },
  {
   "cell_type": "code",
   "execution_count": 4,
   "metadata": {},
   "outputs": [],
   "source": [
    "#subset of diagnoses_icd.csv consisting only the data of cancer diagnosed patients\n",
    "new_data = diag.loc[indx]\n",
    "subj_id=np.unique(new_data['SUBJECT_ID'])\n",
    "#subset of note_events.csv consisting all the discharge summaries of cancer diagnosed patients\n",
    "cancer_data = note[note['SUBJECT_ID'].isin(subj_id)].reset_index(drop=True)"
   ]
  },
  {
   "cell_type": "code",
   "execution_count": 5,
   "metadata": {},
   "outputs": [],
   "source": [
    "no_cancer_data=note[~(note['SUBJECT_ID'].isin(subj_id))].reset_index(drop=True)"
   ]
  },
  {
   "cell_type": "code",
   "execution_count": null,
   "metadata": {},
   "outputs": [],
   "source": []
  },
  {
   "cell_type": "code",
   "execution_count": 8,
   "metadata": {},
   "outputs": [],
   "source": [
    "no_dis_sum = []#count the number of discharge summaries\n",
    "for i in range(len(subj_id)):\n",
    "    temp = note[note['SUBJECT_ID']==subj_id[i]]\n",
    "    no_dis_sum.append(len(temp[temp['CATEGORY']=='Discharge summary']))\n",
    "    \n",
    "count_dis_sum={}#count the frequency of number of discharge summaries\n",
    "for i in no_dis_sum:\n",
    "    try:\n",
    "        count_dis_sum[i]+=1\n",
    "    except:\n",
    "        count_dis_sum[i]=1"
   ]
  },
  {
   "cell_type": "code",
   "execution_count": 9,
   "metadata": {},
   "outputs": [],
   "source": [
    "bef_canc = cancer_data[~(cancer_data['HADM_ID'].isin(new_data['HADM_ID']))].reset_index(drop=True)\n",
    "aft_canc = cancer_data[cancer_data['HADM_ID'].isin(new_data['HADM_ID'])].reset_index(drop=True)"
   ]
  },
  {
   "cell_type": "code",
   "execution_count": 10,
   "metadata": {},
   "outputs": [],
   "source": [
    "for i in range(len(bef_canc)):\n",
    "    with open(\"/home/girish/bef_canc/\"+str(i)+\".txt\",\"w+\") as f:\n",
    "        f.write(bef_canc[\"TEXT\"][i])\n",
    "        f.close()"
   ]
  },
  {
   "cell_type": "code",
   "execution_count": 11,
   "metadata": {},
   "outputs": [],
   "source": [
    "for i in range(len(aft_canc)):\n",
    "    with open(\"/home/girish/aft_canc/\"+str(i)+\".txt\",\"w+\") as f:\n",
    "        f.write(aft_canc[\"TEXT\"][i])\n",
    "        f.close()"
   ]
  },
  {
   "cell_type": "code",
   "execution_count": 12,
   "metadata": {},
   "outputs": [],
   "source": [
    "for i in range(10000):\n",
    "    with open(\"/home/girish/no_canc/\"+str(i)+\".txt\",\"w+\") as f:\n",
    "        f.write(no_cancer_data[\"TEXT\"][i])\n",
    "        f.close()"
   ]
  }
 ],
 "metadata": {
  "kernelspec": {
   "display_name": "Python 3",
   "language": "python",
   "name": "python3"
  },
  "language_info": {
   "codemirror_mode": {
    "name": "ipython",
    "version": 3
   },
   "file_extension": ".py",
   "mimetype": "text/x-python",
   "name": "python",
   "nbconvert_exporter": "python",
   "pygments_lexer": "ipython3",
   "version": "3.5.3"
  }
 },
 "nbformat": 4,
 "nbformat_minor": 2
}
