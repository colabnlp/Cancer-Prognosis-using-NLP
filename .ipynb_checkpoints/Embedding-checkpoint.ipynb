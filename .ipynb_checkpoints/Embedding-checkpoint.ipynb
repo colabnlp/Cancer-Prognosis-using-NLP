{
 "cells": [
  {
   "cell_type": "code",
   "execution_count": 2,
   "metadata": {},
   "outputs": [],
   "source": [
    "import tensorflow as tf\n",
    "import numpy as np\n",
    "from keras.models import load_model, model_from_json"
   ]
  },
  {
   "cell_type": "code",
   "execution_count": 3,
   "metadata": {},
   "outputs": [
    {
     "name": "stderr",
     "output_type": "stream",
     "text": [
      "WARNING: Logging before flag parsing goes to stderr.\n",
      "W1103 16:26:41.776140 140378622285568 deprecation.py:323] From /usr/local/lib/python3.5/dist-packages/tensorflow/python/training/saver.py:1276: checkpoint_exists (from tensorflow.python.training.checkpoint_management) is deprecated and will be removed in a future version.\n",
      "Instructions for updating:\n",
      "Use standard file APIs to check for files with this prefix.\n"
     ]
    }
   ],
   "source": [
    "with tf.Session() as sess:\n",
    "    saver = tf.train.import_meta_graph('biobert_v1.1_pubmed/model.ckpt-1000000.meta')\n",
    "    saver.restore(sess,'./biobert_v1.1_pubmed/model.ckpt-1000000')\n",
    "#     "
   ]
  },
  {
   "cell_type": "code",
   "execution_count": 30,
   "metadata": {},
   "outputs": [
    {
     "data": {
      "text/plain": [
       "0"
      ]
     },
     "execution_count": 30,
     "metadata": {},
     "output_type": "execute_result"
    }
   ],
   "source": [
    "import os\n",
    "import json\n",
    "import pickle\n",
    "import numpy as np\n",
    "\n",
    "# extract_features.py is a BERT class\n",
    "# only the second last layer is considered for embedding\n",
    "os.system('python3 /home/girish/biobert/extract_features.py \\\n",
    "            --input_file=/home/girish/input.txt \\\n",
    "            --layers=-2 \\\n",
    "            --vocab_file=/home/girish/biobert_v1.1_pubmed/vocab.txt \\\n",
    "            --bert_config_file=/home/girish/biobert_v1.1_pubmed/bert_config.json \\\n",
    "            --init_checkpoint=/home/girish/biobert_v1.1_pubmed/model.ckpt-1000000 \\\n",
    "            --output_file=/home/girish/output.json')"
   ]
  },
  {
   "cell_type": "code",
   "execution_count": 49,
   "metadata": {},
   "outputs": [],
   "source": [
    "sent_emd = np.zeros((768,))\n",
    "token_emd = np.zeros((768,))\n",
    "with open('output.json') as f:\n",
    "    no_of_sent = 0\n",
    "    for line in f:\n",
    "        d = json.loads(line)\n",
    "        for i in range(1,len(d['features'])-1):# without [CLS] and [SEP]\n",
    "            token_emd += np.array(d['features'][i]['layers'][0]['values'])\n",
    "        sent_emd += token_emd/(len(d['features'])-2)\n",
    "        no_of_sent +=1\n",
    "    doc_emd = sent_emd/no_of_sent"
   ]
  },
  {
   "cell_type": "code",
   "execution_count": 63,
   "metadata": {},
   "outputs": [],
   "source": [
    "z = np.empty((4,))"
   ]
  },
  {
   "cell_type": "code",
   "execution_count": 65,
   "metadata": {},
   "outputs": [
    {
     "data": {
      "text/plain": [
       "array([[4.66688875e-310, 4.66688866e-310, 6.90229580e-310,\n",
       "        2.37151510e-322],\n",
       "       [0.00000000e+000, 0.00000000e+000, 0.00000000e+000,\n",
       "        0.00000000e+000]])"
      ]
     },
     "execution_count": 65,
     "metadata": {},
     "output_type": "execute_result"
    }
   ],
   "source": [
    "np.stack((z,np.zeros(4,)),axis=0)"
   ]
  },
  {
   "cell_type": "code",
   "execution_count": 64,
   "metadata": {},
   "outputs": [
    {
     "data": {
      "text/plain": [
       "array([4.66688875e-310, 4.66688866e-310, 6.90229580e-310, 2.37151510e-322])"
      ]
     },
     "execution_count": 64,
     "metadata": {},
     "output_type": "execute_result"
    }
   ],
   "source": [
    "z"
   ]
  },
  {
   "cell_type": "code",
   "execution_count": null,
   "metadata": {},
   "outputs": [],
   "source": []
  }
 ],
 "metadata": {
  "kernelspec": {
   "display_name": "Python 3",
   "language": "python",
   "name": "python3"
  },
  "language_info": {
   "codemirror_mode": {
    "name": "ipython",
    "version": 3
   },
   "file_extension": ".py",
   "mimetype": "text/x-python",
   "name": "python",
   "nbconvert_exporter": "python",
   "pygments_lexer": "ipython3",
   "version": "3.5.3"
  }
 },
 "nbformat": 4,
 "nbformat_minor": 2
}
